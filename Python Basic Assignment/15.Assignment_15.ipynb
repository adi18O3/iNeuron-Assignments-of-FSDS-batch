{
 "cells": [
  {
   "cell_type": "markdown",
   "id": "2d52bfc1",
   "metadata": {},
   "source": [
    "# Assignment 15 Solutions"
   ]
  },
  {
   "cell_type": "markdown",
   "id": "488af655",
   "metadata": {},
   "source": [
    "#### 1.How many seconds are in an hour? Use the interactive interpreter as a calculator and multiply the number of seconds in a minute (60) by the number of minutes in an hour (also 60)."
   ]
  },
  {
   "cell_type": "code",
   "execution_count": 1,
   "id": "746ad539",
   "metadata": {},
   "outputs": [
    {
     "name": "stdout",
     "output_type": "stream",
     "text": [
      "3600\n"
     ]
    }
   ],
   "source": [
    "print(60*60)"
   ]
  },
  {
   "cell_type": "markdown",
   "id": "4dc058af",
   "metadata": {},
   "source": [
    "#### 2. Assign the result from the previous task (seconds in an hour) to a variable called seconds_per_hour."
   ]
  },
  {
   "cell_type": "code",
   "execution_count": 2,
   "id": "4d81d33b",
   "metadata": {},
   "outputs": [
    {
     "name": "stdout",
     "output_type": "stream",
     "text": [
      "3600\n"
     ]
    }
   ],
   "source": [
    "seconds_per_hour = 60*60\n",
    "print(seconds_per_hour)"
   ]
  },
  {
   "cell_type": "markdown",
   "id": "03686497",
   "metadata": {},
   "source": [
    "#### 3. How many seconds do you think there are in a day? Make use of the variables seconds per hour and minutes per hour."
   ]
  },
  {
   "cell_type": "code",
   "execution_count": 3,
   "id": "91da538a",
   "metadata": {},
   "outputs": [
    {
     "name": "stdout",
     "output_type": "stream",
     "text": [
      "86400\n"
     ]
    }
   ],
   "source": [
    "minutes_per_hour = 60\n",
    "print(seconds_per_hour*24)"
   ]
  },
  {
   "cell_type": "markdown",
   "id": "6a71cc65",
   "metadata": {},
   "source": [
    "#### 4. Calculate seconds per day again, but this time save the result in a variable called seconds_per_day"
   ]
  },
  {
   "cell_type": "code",
   "execution_count": 4,
   "id": "909641ac",
   "metadata": {},
   "outputs": [
    {
     "name": "stdout",
     "output_type": "stream",
     "text": [
      "86400\n"
     ]
    }
   ],
   "source": [
    "seconds_per_day = 24*60*60\n",
    "print(seconds_per_day)"
   ]
  },
  {
   "cell_type": "markdown",
   "id": "a85c3969",
   "metadata": {},
   "source": [
    "#### 5. Divide seconds_per_day by seconds_per_hour. Use floating-point (/) division."
   ]
  },
  {
   "cell_type": "code",
   "execution_count": 5,
   "id": "b4b3aa9f",
   "metadata": {},
   "outputs": [
    {
     "name": "stdout",
     "output_type": "stream",
     "text": [
      "24.0\n"
     ]
    }
   ],
   "source": [
    "print(seconds_per_day/seconds_per_hour)"
   ]
  },
  {
   "cell_type": "markdown",
   "id": "704f687c",
   "metadata": {},
   "source": [
    "#### 6. Divide seconds_per_day by seconds_per_hour, using integer (//) division. Did this number agree with the floating-point value from the previous question, aside from the final .0?"
   ]
  },
  {
   "cell_type": "code",
   "execution_count": 6,
   "id": "6adfad23",
   "metadata": {},
   "outputs": [
    {
     "name": "stdout",
     "output_type": "stream",
     "text": [
      "24 -> yes this values agree with the floating point value from the previous question\n"
     ]
    }
   ],
   "source": [
    "print(seconds_per_day//seconds_per_hour, end='')\n",
    "print(' -> yes this values agree with the floating point value from the previous question')"
   ]
  },
  {
   "cell_type": "markdown",
   "id": "2e59c604",
   "metadata": {},
   "source": [
    "#### 7. Write a generator, genPrimes, that returns the sequence of prime numbers on successive calls to its next() method: 2, 3, 5, 7, 11, ..."
   ]
  },
  {
   "cell_type": "code",
   "execution_count": 7,
   "id": "9cfb8a01",
   "metadata": {},
   "outputs": [
    {
     "name": "stdout",
     "output_type": "stream",
     "text": [
      "2\n",
      "3\n",
      "5\n",
      "7\n",
      "11\n"
     ]
    }
   ],
   "source": [
    "def genPrimes():\n",
    "    n = 0\n",
    "    while True:\n",
    "        if n == 2 or n == 3 :\n",
    "            yield n\n",
    "        elif ((n-1)%6 == 0 or (n+1)%6 == 0) and n !=1:\n",
    "            yield n\n",
    "        n = n+1\n",
    "        \n",
    "output = genPrimes()\n",
    "for ele in range(5):\n",
    "    print(next(output))"
   ]
  }
 ],
 "metadata": {
  "kernelspec": {
   "display_name": "Python 3 (ipykernel)",
   "language": "python",
   "name": "python3"
  },
  "language_info": {
   "codemirror_mode": {
    "name": "ipython",
    "version": 3
   },
   "file_extension": ".py",
   "mimetype": "text/x-python",
   "name": "python",
   "nbconvert_exporter": "python",
   "pygments_lexer": "ipython3",
   "version": "3.8.8"
  }
 },
 "nbformat": 4,
 "nbformat_minor": 5
}
