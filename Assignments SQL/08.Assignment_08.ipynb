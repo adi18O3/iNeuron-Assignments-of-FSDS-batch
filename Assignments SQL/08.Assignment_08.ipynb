{
 "cells": [
  {
   "cell_type": "markdown",
   "id": "ea2194e5",
   "metadata": {},
   "source": [
    "# Assignment 08 Solutions"
   ]
  },
  {
   "cell_type": "markdown",
   "id": "8357c81c",
   "metadata": {},
   "source": [
    "#### Q-15. Write an SQL query to fetch intersecting records of two tables.\n",
    "**Ans:** `SELECT <Column_names> FROM table_1 INTERSECT SELECT <Column_names> FROM table_2;`"
   ]
  },
  {
   "cell_type": "markdown",
   "id": "53ccde79",
   "metadata": {},
   "source": [
    "#### Q-16. Write an SQL query to show records from one table that another table does not have.\n",
    "**Ans:** `SELECT * FROM table_1 EXCEPT SELECT * FROM table_2;`"
   ]
  }
 ],
 "metadata": {
  "kernelspec": {
   "display_name": "Python 3",
   "language": "python",
   "name": "python3"
  },
  "language_info": {
   "codemirror_mode": {
    "name": "ipython",
    "version": 3
   },
   "file_extension": ".py",
   "mimetype": "text/x-python",
   "name": "python",
   "nbconvert_exporter": "python",
   "pygments_lexer": "ipython3",
   "version": "3.8.8"
  }
 },
 "nbformat": 4,
 "nbformat_minor": 5
}
