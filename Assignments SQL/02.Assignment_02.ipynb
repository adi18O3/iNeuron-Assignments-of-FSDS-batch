{
 "cells": [
  {
   "cell_type": "markdown",
   "id": "b9257a1c",
   "metadata": {},
   "source": [
    "# Assignment 02 Solutions"
   ]
  },
  {
   "cell_type": "markdown",
   "id": "a3875a8c",
   "metadata": {},
   "source": [
    "#### Q-1. Write an SQL query to print the first three characters of  FIRST_NAME from Worker table.\n",
    "**Ans:** `SELECT SUBSTRING(FIRST_NAME,1,3) FROM Worker;`"
   ]
  },
  {
   "cell_type": "markdown",
   "id": "e2629aa5",
   "metadata": {},
   "source": [
    "####  Q-2. Write an SQL query to find the position of the alphabet (‘a’) in the first name column ‘Amitabh’ from Worker table."
   ]
  },
  {
   "cell_type": "code",
   "execution_count": null,
   "id": "2538eece",
   "metadata": {},
   "outputs": [],
   "source": [
    "# Apporach 1\n",
    "SELECT LOCATE('a',FIRST_NAME) FROM Worker WHERE FIRST_NAME = 'Amitabh';\n",
    "# Approach 2\n",
    "SELECT POSITION('a' IN FIRST_NAME) FROM Worker WHERE FIRST_NAME = 'Amitabh';"
   ]
  },
  {
   "cell_type": "markdown",
   "id": "9fb8fdcc",
   "metadata": {},
   "source": [
    "#### Q-3. Write an SQL query to print the name of employees having the highest salary in each department.\n",
    "**Ans:** `SELECT first_name, last_name, salary, department FROM Worker w WHERE salary = (SELECT MAX(salary) FROM Worker WHERE department = w.department)`"
   ]
  }
 ],
 "metadata": {
  "kernelspec": {
   "display_name": "Python 3",
   "language": "python",
   "name": "python3"
  },
  "language_info": {
   "codemirror_mode": {
    "name": "ipython",
    "version": 3
   },
   "file_extension": ".py",
   "mimetype": "text/x-python",
   "name": "python",
   "nbconvert_exporter": "python",
   "pygments_lexer": "ipython3",
   "version": "3.8.8"
  }
 },
 "nbformat": 4,
 "nbformat_minor": 5
}
