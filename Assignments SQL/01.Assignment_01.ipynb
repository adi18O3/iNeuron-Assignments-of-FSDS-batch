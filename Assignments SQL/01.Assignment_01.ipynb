{
 "cells": [
  {
   "cell_type": "markdown",
   "id": "310aae29",
   "metadata": {},
   "source": [
    "# Assignment 01 Solutions"
   ]
  },
  {
   "cell_type": "markdown",
   "id": "bc54568f",
   "metadata": {},
   "source": [
    "#### Q-1. Write an SQL query to fetch `“FIRST_NAME”` from Worker table using the alias name as` <WORKER_NAME>`.\n",
    "**Ans:** `SELECT FIRST_NAME AS WORKER_NAME FROM Worker;`"
   ]
  },
  {
   "cell_type": "markdown",
   "id": "308aba6a",
   "metadata": {},
   "source": [
    "#### Q-2. Write an SQL query to fetch unique values of DEPARTMENT from Worker table.\n",
    "**Ans:** `SELECT DISTINCT DEPARTMENT FROM Worker;`"
   ]
  },
  {
   "cell_type": "markdown",
   "id": "a9f9c474",
   "metadata": {},
   "source": [
    "#### Q-3. Write an SQL query to show the last 5 record from a table.\n",
    "**Ans:** `SELECT * from Worker ORDER by id DESC LIMIT 5;`"
   ]
  }
 ],
 "metadata": {
  "kernelspec": {
   "display_name": "Python 3",
   "language": "python",
   "name": "python3"
  },
  "language_info": {
   "codemirror_mode": {
    "name": "ipython",
    "version": 3
   },
   "file_extension": ".py",
   "mimetype": "text/x-python",
   "name": "python",
   "nbconvert_exporter": "python",
   "pygments_lexer": "ipython3",
   "version": "3.8.8"
  }
 },
 "nbformat": 4,
 "nbformat_minor": 5
}
