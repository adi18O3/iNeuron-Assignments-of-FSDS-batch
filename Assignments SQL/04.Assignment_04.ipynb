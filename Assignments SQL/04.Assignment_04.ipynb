{
 "cells": [
  {
   "cell_type": "markdown",
   "id": "e81218ce",
   "metadata": {},
   "source": [
    "# Assignment 04 Solutions"
   ]
  },
  {
   "cell_type": "markdown",
   "id": "2206e42b",
   "metadata": {},
   "source": [
    "#### Q-1. Write an SQL query to print the FIRST_NAME from Worker table after replacing ‘a’ with ‘A’.\n",
    "**Ans:** `SELECT REPLACE(FIRST_NAME,'a','A') FROM Wokrer;`"
   ]
  },
  {
   "cell_type": "markdown",
   "id": "fee1d9da",
   "metadata": {},
   "source": [
    "#### Q-2. Write an SQL query to print all Worker details from the Worker table order by FIRST_NAME Ascending and DEPARTMENT Descending.\n",
    "**Ans:** `SELECT * FROM Worker ORDER BY FIRST_NAME ASC, LAST_NAME DESC;`"
   ]
  },
  {
   "cell_type": "markdown",
   "id": "3d3ef662",
   "metadata": {},
   "source": [
    "#### Q-3. Write an SQL query to fetch the names of workers who earn the highest salary.\n",
    "**Ans:** `SELECT FIRST_NAME, LAST_NAME FROM Worker WHERE SALARY = (SELECT MAX(SALARY) FROM Worker);`"
   ]
  }
 ],
 "metadata": {
  "kernelspec": {
   "display_name": "Python 3",
   "language": "python",
   "name": "python3"
  },
  "language_info": {
   "codemirror_mode": {
    "name": "ipython",
    "version": 3
   },
   "file_extension": ".py",
   "mimetype": "text/x-python",
   "name": "python",
   "nbconvert_exporter": "python",
   "pygments_lexer": "ipython3",
   "version": "3.8.8"
  }
 },
 "nbformat": 4,
 "nbformat_minor": 5
}
