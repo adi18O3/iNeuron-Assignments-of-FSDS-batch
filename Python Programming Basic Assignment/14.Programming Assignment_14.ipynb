{
 "cells": [
  {
   "cell_type": "markdown",
   "id": "c3f881ef",
   "metadata": {},
   "source": [
    "# Assignment 14 Solutions"
   ]
  },
  {
   "cell_type": "markdown",
   "id": "26f96cce",
   "metadata": {},
   "source": [
    "#### 1.Define a class with a generator which can iterate the numbers, which are divisible by 7, between a given range 0 and n. ?"
   ]
  },
  {
   "cell_type": "code",
   "execution_count": 1,
   "id": "72acae67",
   "metadata": {},
   "outputs": [
    {
     "name": "stdout",
     "output_type": "stream",
     "text": [
      "0 7 14 21 28 35 42 49 56 63 70 77 84 91 98 105 112 119 126 133 140 147 154 161 168 175 182 189 196 203 210 217 224 231 238 245 252 259 266 273 280 287 294 301 308 315 322 329 336 343 350 "
     ]
    }
   ],
   "source": [
    "class div_generator:\n",
    "    def __init__(self,in_num):\n",
    "        self.in_num = in_num\n",
    "    def get_numbers(self):\n",
    "        for ele in range(0,self.in_num+1):\n",
    "            if ele%7 == 0:\n",
    "                yield ele\n",
    "                \n",
    "output = div_generator(350)\n",
    "for ele in output.get_numbers():\n",
    "    print(ele,end=' ')"
   ]
  },
  {
   "cell_type": "markdown",
   "id": "2eb406d4",
   "metadata": {},
   "source": [
    "#### 2.Write a program to compute the frequency of the words from the input. The output should output after sorting the key alphanumerically. \n",
    "Suppose the following input is supplied to the program:   \n",
    "`New to Python or choosing between Python 2 and Python 3? Read Python 2 or Python 3.`  \n",
    "Then, the output should be:  \n",
    "`2:2 3.:1 3?:1 New:1 Python:5 Read:1 and:1 between:1 choosing:1 or:2 to:1`"
   ]
  },
  {
   "cell_type": "code",
   "execution_count": 2,
   "id": "03ae5610",
   "metadata": {},
   "outputs": [
    {
     "name": "stdout",
     "output_type": "stream",
     "text": [
      "Enter the Input String: New to Python or choosing between Python 2 and Python 3? Read Python 2 or Python 3.\n",
      "2:2 3.:1 3?:1 New:1 Python:5 Read:1 and:1 between:1 choosing:1 or:2 to:1 "
     ]
    }
   ],
   "source": [
    "def checkFrequency():\n",
    "    in_string = input(\"Enter the Input String: \")\n",
    "    frequency = {}\n",
    "    for ele in in_string.split(\" \"):\n",
    "        if(frequency.get(ele) == None):\n",
    "            frequency[ele] = 1\n",
    "        else:\n",
    "            frequency[ele] += 1 \n",
    "    for ele in sorted(frequency):\n",
    "        print(f'{ele}:{frequency[ele]}',end=\" \")\n",
    "checkFrequency()"
   ]
  },
  {
   "cell_type": "markdown",
   "id": "a5f6f43e",
   "metadata": {},
   "source": [
    "#### 3.Define a class Person and its two child classes: Male and Female. All classes have a method \"getGender\" which can print \"Male\" for Male class and \"Female\" for Female class. ?"
   ]
  },
  {
   "cell_type": "code",
   "execution_count": 3,
   "id": "b28ef752",
   "metadata": {},
   "outputs": [
    {
     "name": "stdout",
     "output_type": "stream",
     "text": [
      "Male\n",
      "Female\n"
     ]
    }
   ],
   "source": [
    "class Person():\n",
    "    def getGender():\n",
    "        pass\n",
    "    \n",
    "class Male(Person):\n",
    "    def getGender():\n",
    "        print(\"Male\")\n",
    "        \n",
    "class Female(Person):\n",
    "    def getGender():\n",
    "        print(\"Female\")\n",
    "\n",
    "Male.getGender()\n",
    "Female.getGender()"
   ]
  },
  {
   "cell_type": "markdown",
   "id": "edf0f4be",
   "metadata": {},
   "source": [
    "#### 4.Please write a program to generate all sentences where subject is in [\"I\", \"You\"] and verb is in [\"Play\", \"Love\"] and the object is in [\"Hockey\",\"Football\"] ?"
   ]
  },
  {
   "cell_type": "code",
   "execution_count": 4,
   "id": "20d6fe7d",
   "metadata": {},
   "outputs": [
    {
     "name": "stdout",
     "output_type": "stream",
     "text": [
      "I Play Hockey\n",
      "I Play Football\n",
      "I Love Hockey\n",
      "I Love Football\n",
      "You Play Hockey\n",
      "You Play Football\n",
      "You Love Hockey\n",
      "You Love Football\n"
     ]
    }
   ],
   "source": [
    "def generateSentences():\n",
    "    subject = ['I','You']\n",
    "    verb = ['Play','Love']\n",
    "    object = ['Hockey','Football']\n",
    "    for s in subject:\n",
    "        for v in verb:\n",
    "            for o in object:\n",
    "                print(f'{s} {v} {o}')\n",
    "                \n",
    "generateSentences()"
   ]
  },
  {
   "cell_type": "markdown",
   "id": "6e02a631",
   "metadata": {},
   "source": [
    "#### 5.Please write a program to compress and decompress the string \"hello world!hello world!hello world!hello world!\" ?"
   ]
  },
  {
   "cell_type": "code",
   "execution_count": 5,
   "id": "e968e1dd",
   "metadata": {},
   "outputs": [
    {
     "name": "stdout",
     "output_type": "stream",
     "text": [
      "hel2o world!hel2o world!hel2o world!hel2o world!\n",
      "hello world!hello world!hello world!hello world!\n",
      "ineuron ful2 stack datascience\n",
      "ineuron full stack datascience\n"
     ]
    }
   ],
   "source": [
    "def compress(in_string):\n",
    "    output = in_string[0]\n",
    "    count = 1\n",
    "    for ele in range(len(in_string)-1):\n",
    "        if in_string[ele] == in_string[ele+1]:\n",
    "            count +=1\n",
    "        else:\n",
    "            if count > 1:\n",
    "                output += str(count)\n",
    "            output += in_string[ele+1]\n",
    "            count = 1\n",
    "    if count > 1:\n",
    "        output += str(count)            \n",
    "    print(output)\n",
    "\n",
    "\n",
    "def decompress(in_string):\n",
    "    output = ''\n",
    "    for ele in range(len(in_string)):\n",
    "        if in_string[ele].isdigit():\n",
    "            output += output[-1]*(int(in_string[ele])-1)\n",
    "        else:\n",
    "            output += in_string[ele]\n",
    "    print(output)\n",
    "    \n",
    "        \n",
    "compress(\"hello world!hello world!hello world!hello world!\")\n",
    "decompress(\"hel2o world!hel2o world!hel2o world!hel2o world!\")\n",
    "\n",
    "compress('ineuron full stack datascience')\n",
    "decompress('ineuron ful2 stack datascience')"
   ]
  },
  {
   "cell_type": "markdown",
   "id": "52513bb3",
   "metadata": {},
   "source": [
    "#### 6.Please write a binary search function which searches an item in a sorted list. The function should return the index of element to be searched in the list ?"
   ]
  },
  {
   "cell_type": "code",
   "execution_count": 6,
   "id": "13e747f8",
   "metadata": {},
   "outputs": [
    {
     "name": "stdout",
     "output_type": "stream",
     "text": [
      "7\n",
      "Input Element not in the list\n"
     ]
    }
   ],
   "source": [
    "sorted_list = [1,2,3,4,5,6,7,8,9,10]\n",
    "def binary_search(in_list,in_num):\n",
    "    low = 0\n",
    "    high = len(in_list)-1\n",
    "    while low <= high:\n",
    "        mid = high+low//2\n",
    "        if in_list[mid] < in_num:\n",
    "            low = mid+1\n",
    "        elif in_list[mid] > in_num:\n",
    "            high = mid-1\n",
    "        else:\n",
    "            return mid\n",
    "    else:\n",
    "        return 'Input Element not in the list'\n",
    "    \n",
    "print(binary_search(sorted_list,8))\n",
    "print(binary_search(sorted_list,100))"
   ]
  }
 ],
 "metadata": {
  "kernelspec": {
   "display_name": "Python 3 (ipykernel)",
   "language": "python",
   "name": "python3"
  },
  "language_info": {
   "codemirror_mode": {
    "name": "ipython",
    "version": 3
   },
   "file_extension": ".py",
   "mimetype": "text/x-python",
   "name": "python",
   "nbconvert_exporter": "python",
   "pygments_lexer": "ipython3",
   "version": "3.8.8"
  }
 },
 "nbformat": 4,
 "nbformat_minor": 5
}
