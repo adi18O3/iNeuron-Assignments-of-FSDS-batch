{
 "cells": [
  {
   "cell_type": "markdown",
   "metadata": {},
   "source": [
    "# Assignment 4 Solutions"
   ]
  },
  {
   "cell_type": "markdown",
   "metadata": {},
   "source": [
    "#### 1.Write a Python Program to find the factorial of a number ?"
   ]
  },
  {
   "cell_type": "code",
   "execution_count": 1,
   "metadata": {},
   "outputs": [
    {
     "name": "stdout",
     "output_type": "stream",
     "text": [
      "Enter a number: 5\n",
      "The Factorial of 5 is 120\n"
     ]
    }
   ],
   "source": [
    "def factorial(num):\n",
    "    if (num < 1):\n",
    "        return 1\n",
    "    else:\n",
    "        return num*factorial(num-1)\n",
    "num = int(input('Enter a number: '))\n",
    "value = factorial(num)\n",
    "print(f'The Factorial of {num} is {value}')"
   ]
  },
  {
   "cell_type": "markdown",
   "metadata": {},
   "source": [
    "#### 2.Write a Python Program to display the multiplication table ?"
   ]
  },
  {
   "cell_type": "code",
   "execution_count": 2,
   "metadata": {},
   "outputs": [
    {
     "name": "stdout",
     "output_type": "stream",
     "text": [
      "Enter a number: 10\n",
      "Enter no of entries: 10\n",
      "10 X 1 = 10\n",
      "10 X 2 = 20\n",
      "10 X 3 = 30\n",
      "10 X 4 = 40\n",
      "10 X 5 = 50\n",
      "10 X 6 = 60\n",
      "10 X 7 = 70\n",
      "10 X 8 = 80\n",
      "10 X 9 = 90\n",
      "10 X 10 = 100\n"
     ]
    }
   ],
   "source": [
    "def generateTable(base,entries):\n",
    "    for x in range(1,entries+1):\n",
    "        print(f'{base} X {x} = {base*x}')\n",
    "\n",
    "num = int(input('Enter a number: '))\n",
    "values = int(input('Enter no of entries: '))\n",
    "generateTable(num,values)"
   ]
  },
  {
   "cell_type": "markdown",
   "metadata": {},
   "source": [
    "#### 3.Write a Python Program to print the fibonacci sequence ?"
   ]
  },
  {
   "cell_type": "code",
   "execution_count": 3,
   "metadata": {},
   "outputs": [
    {
     "name": "stdout",
     "output_type": "stream",
     "text": [
      "Enter the no of fibonacci sequences you want? 20\n",
      "The First 20 fibonacci series are:  [0, 1, 1, 2, 3, 5, 8, 13, 21, 34, 55, 89, 144, 233, 377, 610, 987, 1597, 2584, 4181]\n"
     ]
    }
   ],
   "source": [
    "s_count = int(input('Enter the no of fibonacci sequences you want? '))\n",
    "initial_list = [0,1]\n",
    "if s_count < 0:\n",
    "    print('Fibonacci Numbers are not available for Negative Numbers')\n",
    "elif s_count <= 2 and s_count >= 0:\n",
    "    print(initial_list)\n",
    "else:\n",
    "    for ins in range(s_count):\n",
    "        if ins >= 2:\n",
    "            initial_list.append(initial_list[ins-1]+initial_list[ins-2])\n",
    "    print(f'The First {s_count} fibonacci series are: ',initial_list)"
   ]
  },
  {
   "cell_type": "markdown",
   "metadata": {},
   "source": [
    "#### 4.Write a Python Program to check Armstrong number ?"
   ]
  },
  {
   "cell_type": "code",
   "execution_count": 4,
   "metadata": {},
   "outputs": [
    {
     "name": "stdout",
     "output_type": "stream",
     "text": [
      "Enter a number: 100\n",
      "100 is a Not Armstrong Number\n",
      "Enter a number: 153\n",
      "153 is a Armstrong Number\n"
     ]
    }
   ],
   "source": [
    "def checkArmstrongNumber():\n",
    "    in_num = input('Enter a number: ')\n",
    "    sum = 0\n",
    "    for char in range(len(in_num)):\n",
    "        sum = sum + pow(int(in_num[char]),3)\n",
    "    if sum == int(in_num):\n",
    "        print(f'{in_num} is a Armstrong Number')\n",
    "    else:\n",
    "        print(f'{in_num} is a Not Armstrong Number')\n",
    "\n",
    "for x in range(2):\n",
    "    checkArmstrongNumber()"
   ]
  },
  {
   "cell_type": "markdown",
   "metadata": {},
   "source": [
    "#### 5.Write a Python Program to Find Armstrong number in an interval ?"
   ]
  },
  {
   "cell_type": "code",
   "execution_count": 5,
   "metadata": {},
   "outputs": [
    {
     "name": "stdout",
     "output_type": "stream",
     "text": [
      "Enter the Start of the Interval: 1\n",
      "Enter the End of the Interval: 10000\n",
      "The Armstrong numbers between 1 and 10000 are [1, 153, 370, 371, 407]\n"
     ]
    }
   ],
   "source": [
    "def checkArmstrongNumber(in_num, storage):\n",
    "    sum = 0\n",
    "    for char in range(len(in_num)):\n",
    "        sum = sum + pow(int(in_num[char]),3)\n",
    "    if sum == int(in_num):\n",
    "        storage.append(int(in_num))\n",
    "\n",
    "start_interval = int(input('Enter the Start of the Interval: '))\n",
    "end_interval = int(input('Enter the End of the Interval: '))\n",
    "list_of_armstrong = []\n",
    "\n",
    "if start_interval > end_interval:\n",
    "    print(\"Start Interval Cannot be Greater than End Interval\")\n",
    "else:\n",
    "    for number in range(start_interval,end_interval+1):\n",
    "        checkArmstrongNumber(str(number),list_of_armstrong)\n",
    "    print(f'The Armstrong numbers between {start_interval} and {end_interval} are {list_of_armstrong}')\n"
   ]
  },
  {
   "cell_type": "markdown",
   "metadata": {},
   "source": [
    "#### 6.Write a Python Program to sum of natural numbers ?"
   ]
  },
  {
   "cell_type": "code",
   "execution_count": 6,
   "metadata": {},
   "outputs": [
    {
     "name": "stdout",
     "output_type": "stream",
     "text": [
      "Enter a number: 100\n",
      "Sum of 100 natural numbers is 5050.0\n"
     ]
    }
   ],
   "source": [
    "def sumOfNaturalNumbers(num):\n",
    "    sum = num*((num+1)/2)\n",
    "    print(f'Sum of {num} natural numbers is {sum}')\n",
    "    \n",
    "num = int(input('Enter a number: '))\n",
    "sumOfNaturalNumbers(num)"
   ]
  }
 ],
 "metadata": {
  "kernelspec": {
   "display_name": "Python 3",
   "language": "python",
   "name": "python3"
  },
  "language_info": {
   "codemirror_mode": {
    "name": "ipython",
    "version": 3
   },
   "file_extension": ".py",
   "mimetype": "text/x-python",
   "name": "python",
   "nbconvert_exporter": "python",
   "pygments_lexer": "ipython3",
   "version": "3.8.8"
  }
 },
 "nbformat": 4,
 "nbformat_minor": 4
}
