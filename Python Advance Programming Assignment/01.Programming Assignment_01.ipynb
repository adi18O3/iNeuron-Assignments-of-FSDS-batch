{
 "cells": [
  {
   "cell_type": "markdown",
   "id": "271d933f",
   "metadata": {},
   "source": [
    "# Assignment 01 Solutions"
   ]
  },
  {
   "cell_type": "markdown",
   "id": "2c039805",
   "metadata": {},
   "source": [
    "#### 1.Write a function that takes a list of lists and returns the value of all of the symbols in it, where each symbol adds or takes something from the total score. Symbol values:\n",
    "`# = 5, O = 3, X = 1, ! = -1, !! = -3 !!! = -5`  \n",
    "A list of lists containing 2 #s, a O, and a !!! would equal (0 + 5 + 5 + 3 - 5) 8. If the final score is negative, return 0 (e.g. 3 #s, 3 !!s, 2 !!!s and a X would be (0 + 5 + 5 + 5 - 3 - 3 - 3 - 5 - 5 + 1) -3, so return 0.  \n",
    "**Examples:**  \n",
    "`check_score([[\"#\", \"!\"],[\"!!\", \"X\"]]) ➞ 2`  \n",
    "`check_score([[\"!!!\", \"O\", \"!\"],[\"X\", \"#\", \"!!!\"],[\"!!\", \"X\", \"O\"]]) ➞ 0`"
   ]
  },
  {
   "cell_type": "code",
   "execution_count": 1,
   "id": "fc1005aa",
   "metadata": {},
   "outputs": [
    {
     "name": "stdout",
     "output_type": "stream",
     "text": [
      "check_score([['#', '!'], ['!!', 'X']]) ➞ 2\n",
      "check_score([['!!!', 'O', '!'], ['X', '#', '!!!'], ['!!', 'X', 'O']]) ➞ 0\n"
     ]
    }
   ],
   "source": [
    "def check_score(in_list):\n",
    "    check_dict = {'#':5,'O':3,'X':1,'!':-1,'!!':-3,'!!!':-5}\n",
    "    out_num = 0\n",
    "    for ele in in_list:\n",
    "        for sub_ele in ele:\n",
    "            out_num += check_dict[sub_ele]\n",
    "    if(out_num < 0):\n",
    "        print(f'check_score({in_list}) ➞ {0}')\n",
    "    else:\n",
    "        print(f'check_score({in_list}) ➞ {out_num}')\n",
    "        \n",
    "check_score([[\"#\", \"!\"],[\"!!\", \"X\"]])\n",
    "check_score([[\"!!!\", \"O\", \"!\"],[\"X\", \"#\", \"!!!\"],[\"!!\", \"X\", \"O\"]])"
   ]
  },
  {
   "cell_type": "markdown",
   "id": "3e467f16",
   "metadata": {},
   "source": [
    "#### 2.Create a function that takes a variable number of arguments, each argument representing the number of items in a group, and returns the number of permutations (combinations) of items that you could get by taking one item from each group.\n",
    "**Examples:**  \n",
    "`combinations(2, 3) ➞ 6`  \n",
    "`combinations(3, 7, 4) ➞ 84`  \n",
    "`combinations(2, 3, 4, 5) ➞ 120`  "
   ]
  },
  {
   "cell_type": "code",
   "execution_count": 2,
   "id": "e22611b3",
   "metadata": {},
   "outputs": [
    {
     "name": "stdout",
     "output_type": "stream",
     "text": [
      "combinations(2, 3) ➞ 6\n",
      "combinations(3, 7, 4) ➞ 84\n",
      "combinations(2, 3, 4, 5) ➞ 120\n"
     ]
    }
   ],
   "source": [
    "def combinations(*args):\n",
    "    out_num = 1\n",
    "    for ele in args:\n",
    "        out_num *=ele\n",
    "    print(f'combinations{args} ➞ {out_num}')\n",
    "\n",
    "combinations(2, 3)\n",
    "combinations(3, 7, 4)\n",
    "combinations(2, 3, 4, 5)"
   ]
  },
  {
   "cell_type": "markdown",
   "id": "c1f68f64",
   "metadata": {},
   "source": [
    "#### 3.Create a function that takes a string as an argument and returns the Morse code equivalent.\n",
    "**Examples:**   \n",
    "`encode_morse(\"EDABBIT CHALLENGE\") ➞ \". -.. .- -... -... .. - -.-. .... .- .-.. .-... -. --. .\"`   \n",
    "`encode_morse(\"HELP ME !\") ➞ \".... . .-.. .--. -- . -.-.--\"`  \n",
    "This dictionary can be used for coding:   \n",
    "`char_to_dots = {\n",
    "'A': '.-', 'B': '-...', 'C': '-.-.', 'D': '-..', 'E': '.', 'F': '..-.',\n",
    "'G': '--.', 'H': '....', 'I': '..', 'J': '.---', 'K': '-.-', 'L': '.-..',\n",
    "'M': '--', 'N': '-.', 'O': '---', 'P': '.--.', 'Q': '--.-', 'R': '.-.',\n",
    "'S': '...', 'T': '-', 'U': '..-', 'V': '...-', 'W': '.--', 'X': '-..-',\n",
    "'Y': '-.--', 'Z': '--..', ' ': ' ', '0': '-----',\n",
    "'1': '.----', '2': '..---', '3': '...--', '4': '....-', '5': '.....',\n",
    "'6': '-....', '7': '--...', '8': '---..', '9': '----.',\n",
    "'&': '.-...', \"'\": '.----.', '@': '.--.-.', ')': '-.--.-', '(': '-.--.',\n",
    "':': '---...', ',': '--..--', '=': '-...-', '!': '-.-.--', '.': '.-.-.-',\n",
    "'-': '-....-', '+': '.-.-.', '\"': '.-..-.', '?': '..--..', '/': '-..-.'\n",
    "}`"
   ]
  },
  {
   "cell_type": "code",
   "execution_count": 3,
   "id": "37db5892",
   "metadata": {},
   "outputs": [
    {
     "name": "stdout",
     "output_type": "stream",
     "text": [
      "encode_morse(EDABBIT CHALLENGE) ➞ .-...--...-.....- -.-......-.-...-...-.--..\n",
      "encode_morse(HELP ME !) ➞ ......-...--. --. -.-.--\n"
     ]
    }
   ],
   "source": [
    "def encode_morse(in_string):\n",
    "    out_string = ''\n",
    "    char_to_dots = {\n",
    "            'A': '.-', 'B': '-...', 'C': '-.-.', 'D': '-..', 'E': '.', 'F': '..-.',\n",
    "            'G': '--.', 'H': '....', 'I': '..', 'J': '.---', 'K': '-.-', 'L': '.-..',\n",
    "            'M': '--', 'N': '-.', 'O': '---', 'P': '.--.', 'Q': '--.-', 'R': '.-.',\n",
    "            'S': '...', 'T': '-', 'U': '..-', 'V': '...-', 'W': '.--', 'X': '-..-',\n",
    "            'Y': '-.--', 'Z': '--..', ' ': ' ', '0': '-----',\n",
    "            '1': '.----', '2': '..---', '3': '...--', '4': '....-', '5': '.....',\n",
    "            '6': '-....', '7': '--...', '8': '---..', '9': '----.',\n",
    "            '&': '.-...', \"'\": '.----.', '@': '.--.-.', ')': '-.--.-', '(': '-.--.',\n",
    "            ':': '---...', ',': '--..--', '=': '-...-', '!': '-.-.--', '.': '.-.-.-',\n",
    "            '-': '-....-', '+': '.-.-.', '\"': '.-..-.', '?': '..--..', '/': '-..-.'\n",
    "        }\n",
    "    for ele in in_string:\n",
    "        out_string +=char_to_dots[ele]\n",
    "    print(f'encode_morse({in_string}) ➞ {out_string}')\n",
    "\n",
    "encode_morse(\"EDABBIT CHALLENGE\")\n",
    "encode_morse(\"HELP ME !\")"
   ]
  },
  {
   "cell_type": "markdown",
   "id": "478df34f",
   "metadata": {},
   "source": [
    "#### 4.Write a function that takes a number and returns True if it's a prime; False otherwise. The number can be 2^64-1 (2 to the power of 63, not XOR). With the standard technique it would be O(2^64-1), which is much too large for the 10 second time limit.\n",
    "**Examples:**  \n",
    "`prime(7) ➞ True`  \n",
    "`prime(56963) ➞ True`  \n",
    "`prime(5151512515524) ➞ False`  "
   ]
  },
  {
   "cell_type": "code",
   "execution_count": 4,
   "id": "56605352",
   "metadata": {},
   "outputs": [
    {
     "name": "stdout",
     "output_type": "stream",
     "text": [
      "prime(7) ➞ True\n",
      "prime(56963) ➞ True\n",
      "prime(5151512515524) ➞ False\n"
     ]
    }
   ],
   "source": [
    "def prime(in_num):\n",
    "    out_bool = False\n",
    "    if ((in_num-1)%6 == 0) or ((in_num+1)%6 == 0):\n",
    "        out_bool = True\n",
    "    print(f'prime({in_num}) ➞ {out_bool}')\n",
    "\n",
    "prime(7)\n",
    "prime(56963)\n",
    "prime(5151512515524)"
   ]
  },
  {
   "cell_type": "markdown",
   "id": "076471ed",
   "metadata": {},
   "source": [
    "#### 5.Create a function that converts a word to a bitstring and then to a boolean list based on the following criteria:\n",
    "    1. Locate the position of the letter in the English alphabet (from 1 to 26).\n",
    "    2. Odd positions will be represented as 1 and 0 otherwise.\n",
    "    3. Convert the represented positions to boolean values, 1 for True and 0 for False.\n",
    "    4. Store the conversions into an array.\n",
    "\n",
    "**Examples:**  \n",
    "`to_boolean_list(\"deep\") ➞ [False, True, True, False]`     \n",
    "    `# deep converts to 0110`  \n",
    "    `# d is the 4th alphabet - 0`  \n",
    "    `# e is the 5th alphabet - 1`  \n",
    "    `# e is the 5th alphabet - 1`  \n",
    "    `# p is the 16th alphabet - 0`  \n",
    "`to_boolean_list(\"loves\") ➞ [False, True, False, True, True]`  \n",
    "`to_boolean_list(\"tesh\") ➞ [False, True, True, False]`  "
   ]
  },
  {
   "cell_type": "code",
   "execution_count": 5,
   "id": "5ef8259e",
   "metadata": {},
   "outputs": [
    {
     "name": "stdout",
     "output_type": "stream",
     "text": [
      "to_boolean_list(deep) ➞ [False, True, True, False]\n",
      "to_boolean_list(loves) ➞ [False, True, False, True, True]\n",
      "to_boolean_list(tesh) ➞ [False, True, True, False]\n"
     ]
    }
   ],
   "source": [
    "def to_boolean_list(in_string):\n",
    "    alphabets = 'abcdefghijklmnopqrstuvwxyz'\n",
    "    out_list = []\n",
    "    for ele in in_string:\n",
    "        out_list.append(bool((alphabets.index(ele)+1)%2))\n",
    "    print(f'to_boolean_list({in_string}) ➞ {out_list}')\n",
    "    \n",
    "to_boolean_list(\"deep\")\n",
    "to_boolean_list(\"loves\")\n",
    "to_boolean_list(\"tesh\")"
   ]
  }
 ],
 "metadata": {
  "kernelspec": {
   "display_name": "Python 3",
   "language": "python",
   "name": "python3"
  },
  "language_info": {
   "codemirror_mode": {
    "name": "ipython",
    "version": 3
   },
   "file_extension": ".py",
   "mimetype": "text/x-python",
   "name": "python",
   "nbconvert_exporter": "python",
   "pygments_lexer": "ipython3",
   "version": "3.8.8"
  }
 },
 "nbformat": 4,
 "nbformat_minor": 5
}
