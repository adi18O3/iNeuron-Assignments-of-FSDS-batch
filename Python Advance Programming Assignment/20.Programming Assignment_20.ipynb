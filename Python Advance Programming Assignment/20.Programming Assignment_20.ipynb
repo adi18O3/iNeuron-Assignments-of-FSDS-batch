{
 "cells": [
  {
   "cell_type": "markdown",
   "id": "402a2c46",
   "metadata": {},
   "source": [
    "# Assignment 20 Solutions"
   ]
  },
  {
   "cell_type": "markdown",
   "id": "b783f039",
   "metadata": {},
   "source": [
    "#### 1. Create a function based on the input and output. Look at the examples, there is a pattern.\n",
    "**Examples:**    \n",
    "`secret(\"p.one.two.three\") ➞ \"<p class='one two three'></p>\"`  \n",
    "`secret(\"p.one\") ➞ \"<p class='one'></p>\"`  \n",
    "`secret(\"p.four.five\") ➞ \"<p class='four five'></p>\"`  "
   ]
  },
  {
   "cell_type": "code",
   "execution_count": 1,
   "id": "235aea31",
   "metadata": {},
   "outputs": [
    {
     "name": "stdout",
     "output_type": "stream",
     "text": [
      "secret(\"p.one.two.three\") ➞ <p class=\"one two three\"></p>\n",
      "secret(\"p.one\") ➞ <p class=\"one\"></p>\n",
      "secret(\"p.four.five\") ➞ <p class=\"four five\"></p>\n"
     ]
    }
   ],
   "source": [
    "def secret(in_string):\n",
    "    in_string_clone = in_string\n",
    "    in_string = in_string.split(\".\")\n",
    "    output = f'<{in_string[0]} class=\"{\" \".join(in_string[1:])}\"></{in_string[0]}>'\n",
    "    print(f'secret(\"{in_string_clone}\") ➞ {output}')\n",
    "    \n",
    "secret(\"p.one.two.three\")\n",
    "secret(\"p.one\")\n",
    "secret(\"p.four.five\")"
   ]
  },
  {
   "cell_type": "markdown",
   "id": "a0151e78",
   "metadata": {},
   "source": [
    "#### 2. Create a function which counts how many lone 1s appear in a given number. Lone means the number doesn't appear twice or more in a row.\n",
    "**Examples:**    \n",
    "`count_lone_ones(101) ➞ 2`  \n",
    "`count_lone_ones(1191) ➞ 1`  \n",
    "`count_lone_ones(1111) ➞ 0`  \n",
    "`count_lone_ones(462) ➞ 0`  "
   ]
  },
  {
   "cell_type": "code",
   "execution_count": 2,
   "id": "8fb6ae75",
   "metadata": {},
   "outputs": [
    {
     "name": "stdout",
     "output_type": "stream",
     "text": [
      "coint_lone_ones(101) ➞ 2\n",
      "coint_lone_ones(1191) ➞ 1\n",
      "coint_lone_ones(1111) ➞ 0\n",
      "coint_lone_ones(462) ➞ 0\n"
     ]
    }
   ],
   "source": [
    "import re\n",
    "def count_lone_ones(in_num):\n",
    "    pattern = r\"(?<!1)1(?!1)\" \n",
    "    output = re.findall(pattern,str(in_num))\n",
    "    print(f'coint_lone_ones({in_num}) ➞ {len(output)}')\n",
    "    \n",
    "count_lone_ones(101)\n",
    "count_lone_ones(1191)\n",
    "count_lone_ones(1111)\n",
    "count_lone_ones(462)"
   ]
  },
  {
   "cell_type": "markdown",
   "id": "51c019da",
   "metadata": {},
   "source": [
    "#### 3. Write a method that accepts two integer parameters rows and cols. The output is a 2d array of numbers displayed in column-major order, meaning the numbers shown increase sequentially down each column and wrap to the top of the next column to the right once the bottom of the current column is reached.\n",
    "**Examples:**    \n",
    "`printGrid(3, 6) ➞ [\n",
    "  [1, 4, 7, 10, 13, 16],\n",
    "  [2, 5, 8, 11, 14, 17],\n",
    "  [3, 6, 9, 12, 15, 18]\n",
    "]`\n",
    "\n",
    "`printGrid(5, 3) ➞ [\n",
    "  [1, 6, 11],\n",
    "  [2, 7, 12],\n",
    "  [3, 8, 13],\n",
    "  [4, 9, 14],\n",
    "  [5, 10, 15]\n",
    "]`\n",
    "\n",
    "`printGrid(4, 1) ➞ [\n",
    "  [1],\n",
    "  [2],\n",
    "  [3],\n",
    "  [4]\n",
    "]`"
   ]
  },
  {
   "cell_type": "code",
   "execution_count": 3,
   "id": "e603672f",
   "metadata": {},
   "outputs": [
    {
     "name": "stdout",
     "output_type": "stream",
     "text": [
      "printGrid(3, 6) ➞ [[1, 4, 7, 10, 13, 16], [2, 5, 8, 11, 14, 17], [3, 6, 9, 12, 15, 18]]\n",
      "printGrid(5, 3) ➞ [[1, 6, 11], [2, 7, 12], [3, 8, 13], [4, 9, 14], [5, 10, 15]]\n",
      "printGrid(4, 1) ➞ [[1], [2], [3], [4]]\n"
     ]
    }
   ],
   "source": [
    "def printGrid(in_one,in_two):\n",
    "    output = []\n",
    "    for ele_1 in range(in_one):\n",
    "        temp = []\n",
    "        for ele_2 in range(in_two):\n",
    "            temp.append(ele_1+(in_one*ele_2)+1)\n",
    "        output.append(temp)\n",
    "    print(f'printGrid{in_one,in_two} ➞ {output}')\n",
    "    \n",
    "printGrid(3, 6)\n",
    "printGrid(5, 3)  \n",
    "printGrid(4, 1)"
   ]
  },
  {
   "cell_type": "markdown",
   "id": "fd3e4351",
   "metadata": {},
   "source": [
    "#### 4. Given a list of integers, return the smallest positive integer not present in the list.\n",
    "\n",
    "Here is a representative example.  \n",
    "Consider the list: `[-2, 6, 4, 5, 7, -1, 7, 1, 3, 6, 6, -2, 9, 10, 2, 2]`  \n",
    "After reordering, the list becomes: `[-2, -2, -1, 1, 2, 2, 3, 4, 5, 6, 6, 6, 7, 7, 9, 10]`  \n",
    "from which we see that the smallest missing positive integer is 8.\n",
    "\n",
    "**Examples:**    \n",
    "`min_miss_pos([-2, 6, 4, 5, 7, -1, 1, 3, 6, -2, 9, 10, 2, 2]) ➞ 8`  \n",
    "`# After sorting, list becomes [-2, -2, -1, 1, 2, 2, 3, 4, 5, 6, 6, 7, 9, 10]`  \n",
    "`# So the smallest missing positive integer is 8`  \n",
    "\n",
    "`min_miss_pos([5, 9, -2, 0, 1, 3, 9, 3, 8, 9]) ➞ 2`  \n",
    "`# After sorting, list becomes [-2, 0, 1, 3, 3, 5, 8, 9, 9, 9]`  \n",
    "`# So the smallest missing positive integer is 2`  \n",
    "\n",
    "`min_miss_pos([0, 4, 4, -1, 9, 4, 5, 2, 10, 7, 6, 3, 10, 9]) ➞ 1`  \n",
    "`# After sorting, list becomes [-1, 0, 2, 3, 4, 4, 4, 5, 6, 7, 9, 9, 10, 10]`  \n",
    "`# So the smallest missing positive integer is 1`  "
   ]
  },
  {
   "cell_type": "code",
   "execution_count": 4,
   "id": "5e2e2821",
   "metadata": {},
   "outputs": [
    {
     "name": "stdout",
     "output_type": "stream",
     "text": [
      "min_miss_pos([-2, 6, 4, 5, 7, -1, 1, 3, 6, -2, 9, 10, 2, 2]) ➞ [-2, -2, -1, 1, 2, 2, 3, 4, 5, 6, 6, 7, 9, 10] ➞ 8\n",
      "min_miss_pos([5, 9, -2, 0, 1, 3, 9, 3, 8, 9]) ➞ [-2, 0, 1, 3, 3, 5, 8, 9, 9, 9] ➞ 2\n",
      "min_miss_pos([0, 4, 4, -1, 9, 4, 5, 2, 10, 7, 6, 3, 10, 9]) ➞ [-1, 0, 2, 3, 4, 4, 4, 5, 6, 7, 9, 9, 10, 10] ➞ 1\n"
     ]
    }
   ],
   "source": [
    "def min_miss_pos(in_list):\n",
    "    in_list_clone = in_list.copy()\n",
    "    in_list = sorted(in_list)\n",
    "    output = -1\n",
    "    for ele in range(1,max(in_list)+1):\n",
    "        if ele not in in_list:\n",
    "            output = ele\n",
    "            break\n",
    "    print(f'min_miss_pos({in_list_clone}) ➞ {in_list} ➞ {output}')\n",
    "    \n",
    "min_miss_pos([-2, 6, 4, 5, 7, -1, 1, 3, 6, -2, 9, 10, 2, 2])\n",
    "min_miss_pos([5, 9, -2, 0, 1, 3, 9, 3, 8, 9])\n",
    "min_miss_pos([0, 4, 4, -1, 9, 4, 5, 2, 10, 7, 6, 3, 10, 9])"
   ]
  },
  {
   "cell_type": "markdown",
   "id": "32a1c4be",
   "metadata": {},
   "source": [
    "#### 5. Google is launching a network of autonomous pizza delivery drones and wants you to create a flexible rewards system (Pizza Points™) that can be tweaked in the future. The rules are simple: if a customer has made at least N orders of at least Y price, they get a FREE pizza!\n",
    "\n",
    "Create a function that takes a dictionary of customers, a minimum number of orders and a minimum order price. Return a list of customers that are eligible for a free pizza.\n",
    "\n",
    "**Examples:**    \n",
    "\n",
    "`customers = {\n",
    "  \"Batman\": [22, 30, 11, 17, 15, 52, 27, 12],\n",
    "  \"Spider-Man\": [5, 17, 30, 33, 40, 22, 26, 10, 11, 45]\n",
    "}`\n",
    "\n",
    "`pizza_points(customers, 5, 20) ➞ [\"Spider-Man\"]`  \n",
    "`pizza_points(customers, 3, 10) ➞ [\"Batman\", \"Spider-Man\"]`  \n",
    "`pizza_points(customers, 5, 100) ➞ []`   "
   ]
  },
  {
   "cell_type": "code",
   "execution_count": 5,
   "id": "d9cdcc97",
   "metadata": {},
   "outputs": [
    {
     "name": "stdout",
     "output_type": "stream",
     "text": [
      "pizza_points('customers', 5, 20) ➞ ['Spider-Man']\n",
      "pizza_points('customers', 3, 10) ➞ ['Batman', 'Spider-Man']\n",
      "pizza_points('customers', 5, 100) ➞ []\n"
     ]
    }
   ],
   "source": [
    "def pizza_points(in_dict,min_order,min_price):\n",
    "    output = []\n",
    "    for customer in in_dict.keys():\n",
    "        if len([order_price for order_price in in_dict[customer] if order_price > min_price]) > min_order:\n",
    "            output.append(customer)\n",
    "    print(f'pizza_points{\"customers\",min_order,min_price} ➞ {output}')\n",
    "\n",
    "customers = {\n",
    "  \"Batman\": [22, 30, 11, 17, 15, 52, 27, 12],\n",
    "  \"Spider-Man\": [5, 17, 30, 33, 40, 22, 26, 10, 11, 45]\n",
    "}\n",
    "    \n",
    "pizza_points(customers, 5, 20)\n",
    "pizza_points(customers, 3, 10)\n",
    "pizza_points(customers, 5, 100)"
   ]
  }
 ],
 "metadata": {
  "kernelspec": {
   "display_name": "Python 3",
   "language": "python",
   "name": "python3"
  },
  "language_info": {
   "codemirror_mode": {
    "name": "ipython",
    "version": 3
   },
   "file_extension": ".py",
   "mimetype": "text/x-python",
   "name": "python",
   "nbconvert_exporter": "python",
   "pygments_lexer": "ipython3",
   "version": "3.8.8"
  }
 },
 "nbformat": 4,
 "nbformat_minor": 5
}
