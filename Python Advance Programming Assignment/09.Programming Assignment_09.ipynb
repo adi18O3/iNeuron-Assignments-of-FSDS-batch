{
 "cells": [
  {
   "cell_type": "markdown",
   "id": "26998e5e",
   "metadata": {},
   "source": [
    "# Assignment 09 Solutions"
   ]
  },
  {
   "cell_type": "markdown",
   "id": "e523ff5f",
   "metadata": {},
   "source": [
    "#### 1. YouTube offers different playback speed options for users. This allows users to increase or decrease the speed of the video content. Given the actual duration and playback speed of the video, calculate the playback duration of the video.\n",
    "**Examples:**    \n",
    "`playback_duration(\"00:30:00\", 2) ➞ \"00:15:00\"`  \n",
    "`playback_duration(\"01:20:00\", 1.5) ➞ \"00:53:20\"`   \n",
    "`playback_duration(\"51:20:09\", 0.5) ➞ \"102:40:18\"`   "
   ]
  },
  {
   "cell_type": "code",
   "execution_count": 1,
   "id": "8c5de1ac",
   "metadata": {},
   "outputs": [
    {
     "name": "stdout",
     "output_type": "stream",
     "text": [
      "playback_duration('00:30:00', 2) ➞ 00:15:00\n",
      "playback_duration('01:20:00', 1.5) ➞ 00:53:20\n",
      "playback_duration('51:20:09', 0.5) ➞ 102:40:18\n"
     ]
    }
   ],
   "source": [
    "def playback_duration(in_time,playback_speed):\n",
    "    time = in_time.split(\":\")\n",
    "    time_in_secs = (3600*int(time[0])+60*int(time[1])+int(time[2]))/playback_speed\n",
    "    f_time_in_hours = str(int(time_in_secs/3600)) if time_in_secs > 3600 else '00'\n",
    "    f_time_in_mins = str(int((time_in_secs%3600)/60)) if (time_in_secs)%3600 > 60 else '00'\n",
    "    f_time_in_secs = str(int((time_in_secs%3600)%60)) if ((time_in_secs)%3600)%60 > 0 else '00'   \n",
    "    output = f'{f_time_in_hours}:{f_time_in_mins}:{f_time_in_secs}'\n",
    "    print(f'playback_duration{in_time, playback_speed} ➞ {output}')\n",
    "    \n",
    "playback_duration(\"00:30:00\", 2)\n",
    "playback_duration(\"01:20:00\", 1.5)\n",
    "playback_duration(\"51:20:09\", 0.5) "
   ]
  },
  {
   "cell_type": "markdown",
   "id": "aac8e3b8",
   "metadata": {},
   "source": [
    "#### 2. We needs your help to construct a building which will be a pile of n cubes. The cube at the bottom will have a volume of n^3, the cube above will have volume of (n-1)^3 and so on until the top which will have a volume of 1^3.\n",
    "Given the total volume m of the building, can you find the number of cubes n required for the building?  \n",
    "In other words, you have to return an integer n such that:   `n^3 + (n-1)^3 + ... + 1^3 == m`  \n",
    "Return None if there is no such number.  \n",
    "**Examples:**    \n",
    "`pile_of_cubes(1071225) ➞ 45`   \n",
    "`pile_of_cubes(4183059834009) ➞ 2022`   \n",
    "`pile_of_cubes(16) ➞ None`  "
   ]
  },
  {
   "cell_type": "code",
   "execution_count": 2,
   "id": "98040fe8",
   "metadata": {},
   "outputs": [
    {
     "name": "stdout",
     "output_type": "stream",
     "text": [
      "pile_of_cubes(1071225) ➞ 45\n",
      "pile_of_cubes(4183059834009) ➞ 2022\n",
      "pile_of_cubes(16) ➞ None\n"
     ]
    }
   ],
   "source": [
    "def pile_of_cubes(in_volume):\n",
    "    out_volume = 0\n",
    "    output = 0\n",
    "    for cube in range(1,in_volume):\n",
    "        out_volume += pow(cube,3)\n",
    "        if in_volume <= out_volume:\n",
    "            output = cube if in_volume == out_volume else None\n",
    "            break\n",
    "    print(f'pile_of_cubes({in_volume}) ➞ {output}')\n",
    "\n",
    "pile_of_cubes(1071225)\n",
    "pile_of_cubes(4183059834009)\n",
    "pile_of_cubes(16)"
   ]
  },
  {
   "cell_type": "markdown",
   "id": "483403b6",
   "metadata": {},
   "source": [
    "#### 3. A fulcrum of a list is an integer such that all elements to the left of it and all elements to the right of it sum to the same value. Write a function that finds the fulcrum of a list.\n",
    "**To illustrate:**     \n",
    "`find_fulcrum([3, 1, 5, 2, 4, 6, -1]) ➞ 2`   // Since [3, 1, 5] and [4, 6, -1] both sum to 9   \n",
    "**Examples:**    \n",
    "`find_fulcrum([1, 2, 4, 9, 10, -10, -9, 3]) ➞ 4`   \n",
    "`find_fulcrum([9, 1, 9]) ➞ 1`  \n",
    "`find_fulcrum([7, -1, 0, -1, 1, 1, 2, 3]) ➞ 0`   \n",
    "`find_fulcrum([8, 8, 8, 8]) ➞ -1`   "
   ]
  },
  {
   "cell_type": "code",
   "execution_count": 3,
   "id": "c1bb89e8",
   "metadata": {},
   "outputs": [
    {
     "name": "stdout",
     "output_type": "stream",
     "text": [
      "find_fulcrum([3, 1, 5, 2, 4, 6, -1]) ➞ 2\n",
      "find_fulcrum([1, 2, 4, 9, 10, -10, -9, 3]) ➞ 4\n",
      "find_fulcrum([9, 1, 9]) ➞ 1\n",
      "find_fulcrum([7, -1, 0, -1, 1, 1, 2, 3]) ➞ 0\n",
      "find_fulcrum([8, 8, 8, 8]) ➞ -1\n"
     ]
    }
   ],
   "source": [
    "def find_fulcrum(in_list):\n",
    "    output = -1\n",
    "    for ele in in_list:\n",
    "        index_of_ele =in_list.index(ele)\n",
    "        if sum(in_list[:index_of_ele]) == sum(in_list[index_of_ele+1:]):\n",
    "            output = ele\n",
    "            break\n",
    "    print(f'find_fulcrum({in_list}) ➞ {output}')\n",
    "        \n",
    "find_fulcrum([3, 1, 5, 2, 4, 6, -1])\n",
    "find_fulcrum([1, 2, 4, 9, 10, -10, -9, 3])\n",
    "find_fulcrum([9, 1, 9])\n",
    "find_fulcrum([7, -1, 0, -1, 1, 1, 2, 3])\n",
    "find_fulcrum([8, 8, 8, 8])"
   ]
  },
  {
   "cell_type": "markdown",
   "id": "2c62ee48",
   "metadata": {},
   "source": [
    "#### 4. Given a list of integers representing the color of each sock, determine how many pairs of socks with matching colors there are. For example, there are 7 socks with colors [1, 2, 1, 2, 1, 3, 2]. There is one pair of color 1 and one of color 2. There are three odd socks left, one of each color. The number of pairs is 2.\n",
    "Create a function that returns an integer representing the number of matching pairs of socks that are available.  \n",
    "**Examples:**    \n",
    "`sock_merchant([10, 20, 20, 10, 10, 30, 50, 10, 20]) ➞ 3`   \n",
    "`sock_merchant([50, 20, 30, 90, 30, 20, 50, 20, 90]) ➞ 4`   \n",
    "`sock_merchant([]) ➞ 0`  "
   ]
  },
  {
   "cell_type": "code",
   "execution_count": 4,
   "id": "a2ce4407",
   "metadata": {},
   "outputs": [
    {
     "name": "stdout",
     "output_type": "stream",
     "text": [
      "sock_merchant([10, 20, 20, 10, 10, 30, 50, 10, 20]) ➞ 3\n",
      "sock_merchant([50, 20, 30, 90, 30, 20, 50, 20, 90]) ➞ 4\n",
      "sock_merchant([]) ➞ 0\n"
     ]
    }
   ],
   "source": [
    "def sock_merchant(in_list):\n",
    "    paired_socks = {}\n",
    "    output = 0\n",
    "    for ele in in_list:\n",
    "        if ele in paired_socks:\n",
    "            paired_socks[ele]+=1\n",
    "        else:\n",
    "            paired_socks[ele]=1\n",
    "    for pair in paired_socks.values():\n",
    "        output += pair//2\n",
    "    print(f'sock_merchant({in_list}) ➞ {output}')\n",
    "    \n",
    "\n",
    "sock_merchant([10, 20, 20, 10, 10, 30, 50, 10, 20])\n",
    "sock_merchant([50, 20, 30, 90, 30, 20, 50, 20, 90])\n",
    "sock_merchant([])"
   ]
  },
  {
   "cell_type": "markdown",
   "id": "409b4871",
   "metadata": {},
   "source": [
    "#### 5. Create a function that takes a string containing integers as well as other characters and return the sum of the negative integers only.\n",
    "**Examples:**    \n",
    "`negative_sum(\"-12 13%14&-11\") ➞ -23`   \n",
    "`# -12 + -11 = -23`  \n",
    "`negative_sum(\"22 13%14&-11-22 13 12\") ➞ -33`  \n",
    "`# -11 + -22 = -33`  "
   ]
  },
  {
   "cell_type": "code",
   "execution_count": 5,
   "id": "00b457b0",
   "metadata": {},
   "outputs": [
    {
     "name": "stdout",
     "output_type": "stream",
     "text": [
      "negative_sum(\"-12 13%14&-11\") ➞ -23\n",
      "negative_sum(\"22 13%14&-11-22 13 12\") ➞ -33\n"
     ]
    }
   ],
   "source": [
    "import re\n",
    "def negative_sum(in_string):\n",
    "    pattern = '-\\d+'\n",
    "    output = sum([int(ele) for ele in re.findall(pattern,in_string)])\n",
    "    print(f'negative_sum(\"{in_string}\") ➞ {output}')\n",
    "    \n",
    "negative_sum(\"-12 13%14&-11\")\n",
    "negative_sum(\"22 13%14&-11-22 13 12\")"
   ]
  }
 ],
 "metadata": {
  "kernelspec": {
   "display_name": "Python 3",
   "language": "python",
   "name": "python3"
  },
  "language_info": {
   "codemirror_mode": {
    "name": "ipython",
    "version": 3
   },
   "file_extension": ".py",
   "mimetype": "text/x-python",
   "name": "python",
   "nbconvert_exporter": "python",
   "pygments_lexer": "ipython3",
   "version": "3.8.8"
  }
 },
 "nbformat": 4,
 "nbformat_minor": 5
}
