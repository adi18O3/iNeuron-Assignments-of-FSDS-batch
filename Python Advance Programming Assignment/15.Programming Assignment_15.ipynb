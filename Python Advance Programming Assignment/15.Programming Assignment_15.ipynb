{
 "cells": [
  {
   "cell_type": "markdown",
   "id": "75554ccc",
   "metadata": {},
   "source": [
    "# Assignment 15 Solutions"
   ]
  },
  {
   "cell_type": "markdown",
   "id": "3fb36dec",
   "metadata": {},
   "source": [
    "#### 1. Write a function that returns True if a given name can generate an array of words.\n",
    "**Examples:**   \n",
    "`anagram(\"Justin Bieber\", [\"injures\", \"ebb\", \"it\"]) ➞ True`    \n",
    "`anagram(\"Natalie Portman\", [\"ornamental\", \"pita\"]) ➞ True`   \n",
    "`anagram(\"Chris Pratt\", [\"chirps\", \"rat\"]) ➞ False`   \n",
    "`# Not all letters are used`   \n",
    "`anagram(\"Jeff Goldblum\", [\"jog\", \"meld\", \"bluffs\"]) ➞ False`   \n",
    "`# \"s\" does not exist in the original name`  "
   ]
  },
  {
   "cell_type": "code",
   "execution_count": 1,
   "id": "370aaca7",
   "metadata": {},
   "outputs": [
    {
     "name": "stdout",
     "output_type": "stream",
     "text": [
      "anagram('Justin Bieber', ['injures', 'ebb', 'it']) ➞ True\n",
      "anagram('Natalie Portman', ['ornamental', 'pita']) ➞ True\n",
      "anagram('Chris Pratt', ['chirps', 'rat']) ➞ False\n",
      "anagram('Jeff Goldblum', ['jog', 'meld', 'bluffs']) ➞ False\n"
     ]
    }
   ],
   "source": [
    "def anagram(in_string,in_list):\n",
    "    in_string_list = list(in_string.lower())\n",
    "    in_string_list.remove(' ')\n",
    "    not_exist_list = []\n",
    "    output = False\n",
    "    for item in in_list:\n",
    "        for ele in item:\n",
    "            if ele in in_string_list:\n",
    "                in_string_list.remove(ele)\n",
    "            else:\n",
    "                not_exist_list.append(ele)\n",
    "    if len(in_string_list) == 0 and len(not_exist_list) == 0:\n",
    "        output = True\n",
    "    print(f'anagram{in_string,in_list} ➞ {output}')\n",
    "            \n",
    "anagram(\"Justin Bieber\", [\"injures\", \"ebb\", \"it\"])\n",
    "anagram(\"Natalie Portman\", [\"ornamental\", \"pita\"])\n",
    "anagram(\"Chris Pratt\", [\"chirps\", \"rat\"])\n",
    "anagram(\"Jeff Goldblum\", [\"jog\", \"meld\", \"bluffs\"])"
   ]
  },
  {
   "cell_type": "markdown",
   "id": "9b2398a6",
   "metadata": {},
   "source": [
    "#### 2. Given an array of users, each defined by an object with the following properties: name, score, reputation create a function that sorts the array to form the correct leaderboard.\n",
    "\n",
    "The leaderboard takes into consideration the score of each user of course, but an emphasis is put on their reputation in the community, so to get the trueScore, you should add the reputation multiplied by 2 to the score.\n",
    "\n",
    "Once you know the trueScore of each user, sort the array according to it in descending order.\n",
    "\n",
    "**Examples:**   \n",
    "`leaderboards([\n",
    "  { \"name\": \"a\", \"score\": 100, \"reputation\": 20 },\n",
    "  { \"name\": \"b\", \"score\": 90, \"reputation\": 40 },\n",
    "  { \"name\": \"c\", \"score\": 115, \"reputation\": 30 },\n",
    "]) ➞ [\n",
    "  { \"name\": \"c\", \"score\": 115, \"reputation\": 30 },  # trueScore = 175\n",
    "  { \"name\": \"b\", \"score\": 90, \"reputation\": 40 },   # trueScore = 170\n",
    "  { \"name\": \"a\", \"score\": 100, \"reputation\": 20 }   # trueScore = 140\n",
    "]`"
   ]
  },
  {
   "cell_type": "code",
   "execution_count": 2,
   "id": "b6dba18d",
   "metadata": {},
   "outputs": [
    {
     "name": "stdout",
     "output_type": "stream",
     "text": [
      "leaderboards([{'name': 'a', 'score': 100, 'reputation': 20}, {'name': 'b', 'score': 90, 'reputation': 40}, {'name': 'c', 'score': 115, 'reputation': 30}]) ➞ [{'name': 'c', 'score': 115, 'reputation': 30}, {'name': 'b', 'score': 90, 'reputation': 40}, {'name': 'a', 'score': 100, 'reputation': 20}]\n"
     ]
    }
   ],
   "source": [
    "def leaderboards(in_list):\n",
    "    temp_dict = {}\n",
    "    out_list = []\n",
    "    for ele in in_list:\n",
    "        temp_dict[(ele['reputation']*2)+ele['score']] = ele\n",
    "    for ele in sorted(temp_dict.keys(),reverse=True):\n",
    "        out_list.append(temp_dict[ele])\n",
    "    print(f'leaderboards({in_list}) ➞ {out_list}')\n",
    "    \n",
    "leaderboards([\n",
    "  { \"name\": \"a\", \"score\": 100, \"reputation\": 20 },\n",
    "  { \"name\": \"b\", \"score\": 90, \"reputation\": 40 },\n",
    "  { \"name\": \"c\", \"score\": 115, \"reputation\": 30 },\n",
    "])"
   ]
  },
  {
   "cell_type": "markdown",
   "id": "7c17c844",
   "metadata": {},
   "source": [
    "#### 3. Create a function that, given a phrase and a number of letters guessed, returns a string with hyphens - for every letter of the phrase not guessed, and each letter guessed in place.\n",
    "**Examples:**   \n",
    "`hangman(\"helicopter\", [\"o\", \"e\", \"s\"]) ➞ \"-e---o--e-\"`  \n",
    "`hangman(\"tree\", [\"r\", \"t\", \"e\"]) ➞ \"tree\"`  \n",
    "`hangman(\"Python rules\", [\"a\", \"n\", \"p\", \"r\", \"z\"]) ➞ \"P----n r----\"`  \n",
    "`hangman(\"He\"s a very naughty boy!\", [\"e\", \"a\", \"y\"]) ➞ \"-e\"- a -e-y -a----y –y!\"`"
   ]
  },
  {
   "cell_type": "code",
   "execution_count": 3,
   "id": "d60033ff",
   "metadata": {},
   "outputs": [
    {
     "name": "stdout",
     "output_type": "stream",
     "text": [
      "hangman('helicopter', ['o', 'e', 's']) ➞ -e---o--e-\n",
      "hangman('tree', ['r', 't', 'e']) ➞ tree\n",
      "hangman('Python rules', ['a', 'n', 'p', 'r', 'z']) ➞ P----n r----\n",
      "hangman('He\"s a very naughty boy!', ['e', 'a', 'y']) ➞ -e\"- a -e-y -a----y --y!\n"
     ]
    }
   ],
   "source": [
    "def hangman(in_string,in_list):\n",
    "    out_string = ''\n",
    "    for ele in range(len(in_string)):\n",
    "        if in_string[ele].lower() in in_list:\n",
    "            out_string += in_string[ele]\n",
    "        elif in_string[ele] in '\"! ':\n",
    "            out_string += in_string[ele]\n",
    "        else:\n",
    "            out_string += '-'\n",
    "    print(f'hangman{in_string,in_list} ➞ {out_string}')\n",
    "        \n",
    "hangman(\"helicopter\", [\"o\", \"e\", \"s\"])\n",
    "hangman(\"tree\", [\"r\", \"t\", \"e\"])\n",
    "hangman(\"Python rules\", [\"a\", \"n\", \"p\", \"r\", \"z\"])\n",
    "hangman(\"He\\\"s a very naughty boy!\", [\"e\", \"a\", \"y\"])"
   ]
  },
  {
   "cell_type": "markdown",
   "id": "9e5c77cb",
   "metadata": {},
   "source": [
    "#### 4. The Collatz sequence is as follows:\n",
    "\n",
    "  - Start with some given integer n.\n",
    "  - If it is even, the next number will be n divided by 2.\n",
    "  - If it is odd, multiply it by 3 and add 1 to make the next number.\n",
    "  - The sequence stops when it reaches 1.\n",
    "\n",
    "According to the Collatz conjecture, it will always reach 1. If that's true, you can construct a finite sequence following the aforementioned method for any given integer.\n",
    "\n",
    "Write a function that takes in an integer n and returns the highest integer in the corresponding Collatz sequence.\n",
    "\n",
    "**Examples:**   \n",
    "`max_collatz(10) ➞ 16`  \n",
    "`# Collatz sequence: 10, 5, 16, 8, 4, 2, 1`\n",
    "\n",
    "`max_collatz(32) ➞ 32`  \n",
    "`# Collatz sequence: 32, 16, 8, 4, 2, 1`\n",
    "\n",
    "`max_collatz(85) ➞ 256`  \n",
    "`# Collatz sequence: 85, 256, 128, 64, 32, 16, 8, 4, 2, 1`"
   ]
  },
  {
   "cell_type": "code",
   "execution_count": 4,
   "id": "6f12e88b",
   "metadata": {},
   "outputs": [
    {
     "name": "stdout",
     "output_type": "stream",
     "text": [
      "max_collatz(10) ➞ 16\n",
      "max_collatz(32) ➞ 32\n",
      "max_collatz(85) ➞ 256\n"
     ]
    }
   ],
   "source": [
    "def max_collatz(in_num):\n",
    "    out_list = []\n",
    "    out_list.append(in_num)\n",
    "    temp_in_num = in_num\n",
    "    while True:\n",
    "        if temp_in_num%2 == 0:\n",
    "            temp_in_num /= 2\n",
    "        else:\n",
    "            temp_in_num = (temp_in_num*3)+1\n",
    "        out_list.append(int(temp_in_num))\n",
    "        if temp_in_num ==1:\n",
    "            break\n",
    "            \n",
    "    x= str(out_list)\n",
    "    print(f'max_collatz({in_num}) ➞ {max(out_list)}')\n",
    "\n",
    "max_collatz(10)\n",
    "max_collatz(32)\n",
    "max_collatz(85)"
   ]
  },
  {
   "cell_type": "markdown",
   "id": "00ad7f76",
   "metadata": {},
   "source": [
    "#### 5. Write a function that sorts a list of integers by their digit length in descending order, then settles ties by sorting numbers with the same digit length in ascending order.\n",
    "\n",
    "**Examples:**   \n",
    "`digit_sort([77, 23, 5, 7, 101]) ➞ [101, 23, 77, 5, 7]`  \n",
    "`digit_sort([1, 5, 9, 2, 789, 563, 444]) ➞ [444, 563, 789, 1, 2, 5, 9]`  \n",
    "`digit_sort([53219, 3772, 564, 32, 1]) ➞ [53219, 3772, 564, 32, 1]`  "
   ]
  },
  {
   "cell_type": "code",
   "execution_count": 5,
   "id": "29a5f2bf",
   "metadata": {},
   "outputs": [
    {
     "name": "stdout",
     "output_type": "stream",
     "text": [
      "digit_sort([77, 23, 5, 7, 101]) ➞ [101, 23, 77, 5, 7]\n",
      "digit_sort([1, 5, 9, 2, 789, 563, 444]) ➞ [444, 563, 789, 1, 2, 5, 9]\n",
      "digit_sort([53219, 3772, 564, 32, 1]) ➞ [53219, 3772, 564, 32, 1]\n"
     ]
    }
   ],
   "source": [
    "def digit_sort(in_list):\n",
    "    max_len = len(str(max(in_list)))\n",
    "    output = []\n",
    "    for item in range(max_len,0,-1):\n",
    "        temp = []\n",
    "        for ele in in_list:\n",
    "            if len(str(ele)) == item:\n",
    "                temp.append(ele)\n",
    "        output.extend(sorted(temp))\n",
    "    print(f'digit_sort({in_list}) ➞ {output}')\n",
    "    \n",
    "digit_sort([77, 23, 5, 7, 101])\n",
    "digit_sort([1, 5, 9, 2, 789, 563, 444])\n",
    "digit_sort([53219, 3772, 564, 32, 1])"
   ]
  }
 ],
 "metadata": {
  "kernelspec": {
   "display_name": "Python 3",
   "language": "python",
   "name": "python3"
  },
  "language_info": {
   "codemirror_mode": {
    "name": "ipython",
    "version": 3
   },
   "file_extension": ".py",
   "mimetype": "text/x-python",
   "name": "python",
   "nbconvert_exporter": "python",
   "pygments_lexer": "ipython3",
   "version": "3.8.8"
  }
 },
 "nbformat": 4,
 "nbformat_minor": 5
}
