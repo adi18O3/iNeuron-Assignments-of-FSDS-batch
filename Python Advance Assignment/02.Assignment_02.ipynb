{
 "cells": [
  {
   "cell_type": "markdown",
   "id": "1a3464c1",
   "metadata": {},
   "source": [
    "# Assignment 02 Solutions"
   ]
  },
  {
   "cell_type": "markdown",
   "id": "91f50838",
   "metadata": {},
   "source": [
    "#### Q1. What is the relationship between classes and modules?\n",
    "**Ans:** A Python class is like an outline/blueprint/mold for creating a new object. An object is anything that you wish to manipulate or change while working through the code. Every time a class object is instantiated, which is when we declare a variable, a new object is initiated from scratch\n",
    "\n",
    "Whereas in Python, Modules are simply files with the **`. py`** extension containing Python code that can be imported inside another Python Program. In simple terms, we can consider a module to be the same as a code library or a file that contains a set of functions/Classes that you want to include in your application."
   ]
  },
  {
   "cell_type": "markdown",
   "id": "92be3b82",
   "metadata": {},
   "source": [
    "#### Q2. How do you make instances and classes?\n",
    "**Ans:** For creating a class instance. we call a class by its name and pass the arguments which its **`__init__`** method accepts.\n",
    "\n",
    "**Example:** `vishwak = employee('Male',20000)`, Here vishwak is an instance of class employee with attriubutes 'Male' and 20000.\n",
    "\n",
    "Whereas for creating a class, we use the **`Class`** keyword. Class keyword is followed by classname and semicolon.\n",
    "\n",
    "**Example:** Here Employee is a class created with `class` keyword with arguments gender and salary. \n",
    "\n",
    "`class Employee:\n",
    "    def __init__(self, gender,salary):\n",
    "        self.gender = gender\n",
    "        self.salary = salary`"
   ]
  },
  {
   "cell_type": "markdown",
   "id": "4cfb843c",
   "metadata": {},
   "source": [
    "#### Q3. Where and how should be class attributes created?\n",
    "**Ans:** Class attributes or Class level Attributes belong to the class itself. these attributes will be shared by all the instances of the class. Hence these attributes are usually created/defined in the top of class definiation outside all methods.\n",
    "\n",
    "**Example:** In the below code we are defining a class attribute called no_of_wheels which will be shared by all the instances of the class Car\n",
    "\n",
    "`class Car:\n",
    "    no_of_wheels = 4; # this is a class attribute\n",
    "    def __init__(self,color,price,engine):\n",
    "        self.color = color # All this are instance attributes\n",
    "        self.price = price\n",
    "        self.engine = engine`"
   ]
  },
  {
   "cell_type": "markdown",
   "id": "47c44e75",
   "metadata": {},
   "source": [
    "#### Q4. Where and how are instance attributes created?\n",
    "**Ans:** Instances attributes are passed to the class when an object of the class is created. Unlike class attributes, instance attributes are not shared by all objects of the classs. instead each object maintains its own copy of instance attributes at object level. whereas incase of class attributes all instances of class refer to a single copy. Usually instance attributes are defined within the **`__init__`** method of class\n",
    "\n",
    "**Example:** In the below sample code we are creating a class Car with instance varaibles color, price, engine, which will be provided when an instance of class Car is created.\n",
    "\n",
    "`class Car:\n",
    "    def __init__(self,color,price,engine):\n",
    "        self.color = color # All this are instance attributes\n",
    "        self.price = price\n",
    "        self.engine = engine`\n",
    "        \n",
    "`nexon_ev = Car('Indigo Blue', 1400000, 'electric')`  \n",
    "`safari = Car('Pearl White',2100000, 'petrol')`\n",
    "\n",
    "nexon_ev, safari are both the instances of class Car with different instance variables."
   ]
  },
  {
   "cell_type": "markdown",
   "id": "0ed28045",
   "metadata": {},
   "source": [
    "#### Q5. What does the term \"self\" in a Python class mean?\n",
    "**Ans:** **`self`** represents the instance of the class (it represents the object itself). By using the “self” keyword we can access the attributes and methods of the class with in the class in python. It binds the attributes with the given arguments."
   ]
  },
  {
   "cell_type": "code",
   "execution_count": 1,
   "id": "7864bf87",
   "metadata": {},
   "outputs": [
    {
     "name": "stdout",
     "output_type": "stream",
     "text": [
      "{'color': 'Indigo Blue', 'price': 1400000, 'engine': 'electric'}\n",
      "{'color': 'Pearl White', 'price': 2100000, 'engine': 'petrol'}\n"
     ]
    }
   ],
   "source": [
    "class Car:\n",
    "    def __init__(self,color,price,engine):\n",
    "        self.color = color # All this are instance attributes\n",
    "        self.price = price\n",
    "        self.engine = engine\n",
    "\n",
    "nexon_ev = Car('Indigo Blue', 1400000, 'electric')\n",
    "safari = Car('Pearl White',2100000, 'petrol')\n",
    "\n",
    "print(nexon_ev.__dict__)\n",
    "print(safari.__dict__)"
   ]
  },
  {
   "cell_type": "markdown",
   "id": "f58ed1f8",
   "metadata": {},
   "source": [
    "#### Q6. How does a Python class handle operator overloading?\n",
    "**Ans:** Python Classes handle operator overloading by using special methods called **Magic methods**. these special methods usually begin and end with **`__`** (double underscore)  \n",
    "**Example:** Magic methods for basic arithmetic operators are:\n",
    "- `+ -> __add__()`\n",
    "- `- -> __sub__()`\n",
    "- `* -> __mul__()`\n",
    "- `/ -> __div__()`"
   ]
  },
  {
   "cell_type": "code",
   "execution_count": 2,
   "id": "60294cc1",
   "metadata": {},
   "outputs": [
    {
     "name": "stdout",
     "output_type": "stream",
     "text": [
      "The total number of pages in 2 books is 300\n"
     ]
    }
   ],
   "source": [
    "class Book:\n",
    "    def __init__(self,pages):\n",
    "        self.pages = pages\n",
    "    def __add__(self,other):\n",
    "        return self.pages + other.pages\n",
    "b1 = Book(100)\n",
    "b2 = Book(200)\n",
    "print(f'The total number of pages in 2 books is {b1+b2}')"
   ]
  },
  {
   "cell_type": "markdown",
   "id": "439d9d7e",
   "metadata": {},
   "source": [
    "#### Q7. When do you consider allowing operator overloading of your classes?\n",
    "**Ans:** When we want to have different meaning for the same operator accroding to the context we use operator overloading."
   ]
  },
  {
   "cell_type": "markdown",
   "id": "0cd1ea24",
   "metadata": {},
   "source": [
    "#### Q8. What is the most popular form of operator overloading?\n",
    "**Ans:** The most popular form of operator overloading in python is by special methods called **Magic methods**. Which usually beign and end with double underscore **`__<method name>__`**."
   ]
  },
  {
   "cell_type": "code",
   "execution_count": 3,
   "id": "f8444677",
   "metadata": {},
   "outputs": [
    {
     "name": "stdout",
     "output_type": "stream",
     "text": [
      "Sum -> 3\n",
      "String Concatenation -> Mano Vishnu\n"
     ]
    }
   ],
   "source": [
    "class A:\n",
    "    def __init__(self,a):\n",
    "        self.a = a\n",
    "    def __add__(self,o):\n",
    "        return self.a+o.a\n",
    "obj1 = A(1)\n",
    "obj2 = A(2)\n",
    "obj3 = A('Mano')\n",
    "obj4 = A(' Vishnu')\n",
    "print(f'Sum -> {obj1+obj2}')\n",
    "print(f'String Concatenation -> {obj3+obj4}')"
   ]
  },
  {
   "cell_type": "markdown",
   "id": "3ff6f7f0",
   "metadata": {},
   "source": [
    "#### Q9. What are the two most important concepts to grasp in order to comprehend Python OOP code?\n",
    "**Ans:** **Classes** and **objects** are the two concepts to comprehend python OOP code as more formally objects are entities that represent instances of general abstract concept called class\n",
    "\n",
    "Along with classes and objects the important concepts to grasp are:\n",
    "1. Inheritence\n",
    "2. Abstraction\n",
    "3. Polymorphism\n",
    "4. Encapsulation"
   ]
  }
 ],
 "metadata": {
  "kernelspec": {
   "display_name": "Python 3",
   "language": "python",
   "name": "python3"
  },
  "language_info": {
   "codemirror_mode": {
    "name": "ipython",
    "version": 3
   },
   "file_extension": ".py",
   "mimetype": "text/x-python",
   "name": "python",
   "nbconvert_exporter": "python",
   "pygments_lexer": "ipython3",
   "version": "3.8.8"
  }
 },
 "nbformat": 4,
 "nbformat_minor": 5
}
