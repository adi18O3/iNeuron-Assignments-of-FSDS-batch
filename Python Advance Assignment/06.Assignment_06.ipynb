{
 "cells": [
  {
   "cell_type": "markdown",
   "id": "cdb59e56",
   "metadata": {},
   "source": [
    "# Assignment 06 Solutions"
   ]
  },
  {
   "cell_type": "markdown",
   "id": "9dce2ceb",
   "metadata": {},
   "source": [
    "#### Q1. Describe three applications for exception processing.\n",
    "**Ans:** Exception Processing is important to find exceptions that causes the runtime error. As runtime errors Halt the program execution when exception occurs.\n",
    "\n",
    "Exception Processing is used in Various Applications of which few examples are:\n",
    "1. Checking Appropriate use of input in an application\n",
    "2. Checking for Arithmetic exceptions in mathematical executions\n",
    "3. Checking File I/O exceptions during File handling"
   ]
  },
  {
   "cell_type": "markdown",
   "id": "c82ae389",
   "metadata": {},
   "source": [
    "#### Q2. What happens if you don't do something extra to treat an exception?\n",
    "**Ans:** If Exceptions are not handled flow of program will be broken during the run time which might lead to a abnormal termination of the program. Inshort inability of program to handle exceptions will result in crashing of program."
   ]
  },
  {
   "cell_type": "markdown",
   "id": "5adab9bd",
   "metadata": {},
   "source": [
    "#### Q3. What are your options for recovering from an exception in your script?\n",
    "**Ans:** Python provides **`try`** and **`except`** statements for recovering from an exception in your script."
   ]
  },
  {
   "cell_type": "markdown",
   "id": "d7379d80",
   "metadata": {},
   "source": [
    "#### Q4. Describe two methods for triggering exceptions in your script ?\n",
    "**Ans:** **`raise`** and **`assert`** are two methods that can be used to trigger manual exceptions in your script.\n",
    "- **`raise`** method triggers an exception if condition provided to it turns out to be True.\n",
    "- **`assert`** will let the program to continue execution if condition provided to it turns out to be True else exception will be raised"
   ]
  },
  {
   "cell_type": "code",
   "execution_count": 1,
   "id": "55ca2b5b",
   "metadata": {},
   "outputs": [
    {
     "ename": "Exception",
     "evalue": "X Value Should not exceed 5 The Provided Value of X is 10",
     "output_type": "error",
     "traceback": [
      "\u001b[1;31m---------------------------------------------------------------------------\u001b[0m",
      "\u001b[1;31mException\u001b[0m                                 Traceback (most recent call last)",
      "\u001b[1;32m<ipython-input-1-3bda0e4dbc13>\u001b[0m in \u001b[0;36m<module>\u001b[1;34m()\u001b[0m\n\u001b[0;32m      1\u001b[0m \u001b[1;31m# Example of raise\u001b[0m\u001b[1;33m\u001b[0m\u001b[1;33m\u001b[0m\u001b[1;33m\u001b[0m\u001b[0m\n\u001b[0;32m      2\u001b[0m \u001b[0mx\u001b[0m \u001b[1;33m=\u001b[0m \u001b[1;36m10\u001b[0m\u001b[1;33m\u001b[0m\u001b[1;33m\u001b[0m\u001b[0m\n\u001b[1;32m----> 3\u001b[1;33m \u001b[1;32mraise\u001b[0m \u001b[0mException\u001b[0m\u001b[1;33m(\u001b[0m\u001b[1;34mf'X Value Should not exceed 5 The Provided Value of X is {x}'\u001b[0m\u001b[1;33m)\u001b[0m\u001b[1;33m\u001b[0m\u001b[1;33m\u001b[0m\u001b[0m\n\u001b[0m",
      "\u001b[1;31mException\u001b[0m: X Value Should not exceed 5 The Provided Value of X is 10"
     ]
    }
   ],
   "source": [
    "# Example of raise\n",
    "x = 10\n",
    "raise Exception(f'X Value Should not exceed 5 The Provided Value of X is {x}')"
   ]
  },
  {
   "cell_type": "code",
   "execution_count": 2,
   "id": "b9bfe958",
   "metadata": {},
   "outputs": [
    {
     "ename": "AssertionError",
     "evalue": "2 is not equal to 4",
     "output_type": "error",
     "traceback": [
      "\u001b[1;31m---------------------------------------------------------------------------\u001b[0m",
      "\u001b[1;31mAssertionError\u001b[0m                            Traceback (most recent call last)",
      "\u001b[1;32m<ipython-input-2-b3cb1796e5b9>\u001b[0m in \u001b[0;36m<module>\u001b[1;34m()\u001b[0m\n\u001b[0;32m      1\u001b[0m \u001b[1;31m# Example of assert\u001b[0m\u001b[1;33m\u001b[0m\u001b[1;33m\u001b[0m\u001b[1;33m\u001b[0m\u001b[0m\n\u001b[1;32m----> 2\u001b[1;33m \u001b[1;32massert\u001b[0m\u001b[1;33m(\u001b[0m\u001b[1;36m2\u001b[0m\u001b[1;33m==\u001b[0m\u001b[1;36m4\u001b[0m\u001b[1;33m)\u001b[0m\u001b[1;33m,\u001b[0m \u001b[1;34m\"2 is not equal to 4\"\u001b[0m\u001b[1;33m\u001b[0m\u001b[1;33m\u001b[0m\u001b[0m\n\u001b[0m",
      "\u001b[1;31mAssertionError\u001b[0m: 2 is not equal to 4"
     ]
    }
   ],
   "source": [
    "# Example of assert\n",
    "assert(2==4), \"2 is not equal to 4\""
   ]
  },
  {
   "cell_type": "markdown",
   "id": "6335bd5c",
   "metadata": {},
   "source": [
    "#### Q5. Identify two methods for specifying actions to be executed at termination time, regardless of whether or not an exception exists.\n",
    "**Ans:** Python Provides **`else`** and **`finally`** blocks for specifying actions to be executed at termination time, regardless of whether an exceptions exists or not."
   ]
  }
 ],
 "metadata": {
  "kernelspec": {
   "display_name": "Python 3",
   "language": "python",
   "name": "python3"
  },
  "language_info": {
   "codemirror_mode": {
    "name": "ipython",
    "version": 3
   },
   "file_extension": ".py",
   "mimetype": "text/x-python",
   "name": "python",
   "nbconvert_exporter": "python",
   "pygments_lexer": "ipython3",
   "version": "3.6.13"
  }
 },
 "nbformat": 4,
 "nbformat_minor": 5
}
